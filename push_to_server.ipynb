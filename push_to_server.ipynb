{
 "cells": [
  {
   "cell_type": "code",
   "execution_count": 8,
   "metadata": {},
   "outputs": [],
   "source": [
    "import mysql.connector\n",
    "# from datetime import date\n",
    "# import datetime\n",
    "import os\n",
    "import socket"
   ]
  },
  {
   "cell_type": "code",
   "execution_count": 9,
   "metadata": {},
   "outputs": [
    {
     "name": "stdout",
     "output_type": "stream",
     "text": [
      "<mysql.connector.connection_cext.CMySQLConnection object at 0x000001D56BDD4880>\n"
     ]
    }
   ],
   "source": [
    "db = mysql.connector.connect(\n",
    "    host='173.230.133.41',\n",
    "    user='user',\n",
    "    password=''\n",
    ")\n",
    "\n",
    "print (db)\n",
    "\n",
    "mycursor = db.cursor()"
   ]
  },
  {
   "cell_type": "code",
   "execution_count": 10,
   "metadata": {},
   "outputs": [
    {
     "name": "stdout",
     "output_type": "stream",
     "text": [
      "['file1.txt', 'file2.txt', 'file3.txt']\n"
     ]
    }
   ],
   "source": [
    "files = os.listdir('DistShared')\n",
    "\n",
    "print(files)"
   ]
  },
  {
   "cell_type": "code",
   "execution_count": 11,
   "metadata": {},
   "outputs": [
    {
     "name": "stdout",
     "output_type": "stream",
     "text": [
      "Hostname :   DESKTOP-NQAPMAS\n",
      "IP :  192.168.56.1\n"
     ]
    }
   ],
   "source": [
    "try:\n",
    "    host_name = socket.gethostname()\n",
    "    host_ip = socket.gethostbyname(host_name)\n",
    "    print(\"Hostname :  \",host_name)\n",
    "    print(\"IP : \",host_ip)\n",
    "except:\n",
    "    print(\"Unable to get Hostname and IP\")"
   ]
  },
  {
   "cell_type": "code",
   "execution_count": 20,
   "metadata": {},
   "outputs": [
    {
     "name": "stdout",
     "output_type": "stream",
     "text": [
      "INSERT INTO peer_list (IP, filename) VALUES ('192.168.56.1', 'file1.txt');\n",
      "INSERT INTO peer_list (IP, filename) VALUES ('192.168.56.1', 'file2.txt');\n",
      "INSERT INTO peer_list (IP, filename) VALUES ('192.168.56.1', 'file3.txt');\n"
     ]
    }
   ],
   "source": [
    "for item in files:\n",
    "    \n",
    "    mycursor.execute(\"USE CDS;\")\n",
    "    \n",
    "    sql_cmd = \"INSERT INTO peer_list (IP, filename) VALUES (\"\n",
    "    iVals = (\"'\" + host_ip + \"', '\" + item + \"'\")\n",
    "    \n",
    "    print(sql_cmd + iVals + \");\")\n",
    "    \n",
    "    mycursor.execute(sql_cmd + iVals + \");\")\n",
    "    \n",
    "    db.commit()"
   ]
  }
 ],
 "metadata": {
  "interpreter": {
   "hash": "63fd5069d213b44bf678585dea6b12cceca9941eaf7f819626cde1f2670de90d"
  },
  "kernelspec": {
   "display_name": "Python 3.9.0 64-bit",
   "language": "python",
   "name": "python3"
  },
  "language_info": {
   "codemirror_mode": {
    "name": "ipython",
    "version": 3
   },
   "file_extension": ".py",
   "mimetype": "text/x-python",
   "name": "python",
   "nbconvert_exporter": "python",
   "pygments_lexer": "ipython3",
   "version": "3.8.11"
  },
  "orig_nbformat": 4
 },
 "nbformat": 4,
 "nbformat_minor": 2
}
