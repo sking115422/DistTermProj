{
 "cells": [
  {
   "cell_type": "code",
   "execution_count": null,
   "metadata": {},
   "outputs": [],
   "source": [
    "import socket"
   ]
  },
  {
   "cell_type": "code",
   "execution_count": null,
   "metadata": {},
   "outputs": [],
   "source": [
    "try:\n",
    "    host_name = socket.gethostname()\n",
    "    host_ip = socket.gethostbyname(host_name)\n",
    "    print(\"Hostname :  \",host_name)\n",
    "    print(\"IP : \",host_ip)\n",
    "except:\n",
    "    print(\"Unable to get Hostname and IP\")"
   ]
  },
  {
   "cell_type": "code",
   "execution_count": null,
   "metadata": {},
   "outputs": [],
   "source": [
    "HOST = host_ip  # The server's hostname or IP address\n",
    "PORT = 55555        # The port used by the server\n",
    "\n",
    "with socket.socket(socket.AF_INET, socket.SOCK_STREAM) as s:\n",
    "    s.connect((HOST, PORT))\n",
    "    s.sendall(b'Hello, world')\n",
    "    data = s.recv(1024)\n",
    "\n",
    "print('Received', repr(data))"
   ]
  }
 ],
 "metadata": {
  "interpreter": {
   "hash": "57a5fde01914d98827060784df451e27446bd3caf609add82b8d4177048d62b8"
  },
  "kernelspec": {
   "display_name": "Python 3.8.11 64-bit ('venv': venv)",
   "language": "python",
   "name": "python3"
  },
  "language_info": {
   "name": "python",
   "version": "3.8.11"
  },
  "orig_nbformat": 4
 },
 "nbformat": 4,
 "nbformat_minor": 2
}
