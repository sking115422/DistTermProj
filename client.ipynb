{
 "cells": [
  {
   "cell_type": "code",
   "execution_count": 1,
   "metadata": {},
   "outputs": [],
   "source": [
    "\n",
    "import socket\n",
    "import mysql.connector\n",
    "import os\n"
   ]
  },
  {
   "cell_type": "code",
   "execution_count": 2,
   "metadata": {},
   "outputs": [],
   "source": [
    "#function to connect with our MySQL database\n",
    "\n",
    "def connect_to_db ():\n",
    "    db = mysql.connector.connect(\n",
    "        host='173.230.133.41',\n",
    "        user='user',\n",
    "        password=''\n",
    "    )\n",
    "\n",
    "    print ()\n",
    "    print (db)\n",
    "\n",
    "    mycursor = db.cursor()\n",
    "    \n",
    "    return db, mycursor\n"
   ]
  },
  {
   "cell_type": "code",
   "execution_count": 3,
   "metadata": {},
   "outputs": [],
   "source": [
    "#Function to return the local IP and hostname\n",
    "\n",
    "def get_local_ip():\n",
    "    try:\n",
    "        host_name = socket.gethostname()\n",
    "        host_ip = socket.gethostbyname(host_name)\n",
    "        print()\n",
    "        print(\"Hostname :  \",host_name)\n",
    "        print(\"IP : \",host_ip)\n",
    "    except:\n",
    "        print(\"Unable to get Hostname and IP\")\n",
    "        \n",
    "    return host_ip, host_name\n"
   ]
  },
  {
   "cell_type": "code",
   "execution_count": 4,
   "metadata": {},
   "outputs": [],
   "source": [
    "#Function to return all files names in DistShared folder\n",
    "\n",
    "def get_files():\n",
    "    \n",
    "    files = os.listdir('DistShared')\n",
    "    \n",
    "    print()\n",
    "    print(\"Files From Share Drive:\")\n",
    "    for item in files:\n",
    "        print(item)\n",
    "        \n",
    "    return files\n"
   ]
  },
  {
   "cell_type": "code",
   "execution_count": 5,
   "metadata": {},
   "outputs": [],
   "source": [
    "#Function to push all files from DistShared folder to server\n",
    "\n",
    "def push_to_server ():\n",
    "    \n",
    "    db, mycursor = connect_to_db()\n",
    "    host_ip, host_name = get_local_ip()\n",
    "    files = get_files()\n",
    "\n",
    "    print()\n",
    "    for item in files:\n",
    "        \n",
    "        mycursor.execute(\"USE CDS;\")\n",
    "        \n",
    "        sql_cmd = \"INSERT INTO peer_list (IP, filename) VALUES (\"\n",
    "        iVals = (\"'\" + host_ip + \"', '\" + item + \"'\")\n",
    "        \n",
    "        print(\"Inserted file:   \" + item)\n",
    "        \n",
    "        mycursor.execute(sql_cmd + iVals + \");\")\n",
    "        \n",
    "        db.commit()\n",
    "        "
   ]
  },
  {
   "cell_type": "code",
   "execution_count": 6,
   "metadata": {},
   "outputs": [
    {
     "name": "stdout",
     "output_type": "stream",
     "text": [
      "\n",
      "<mysql.connector.connection_cext.CMySQLConnection object at 0x000001957CF1BA60>\n",
      "\n",
      "Avaliable Files For Download\n",
      "\n",
      "['192.168.1.153', 'file4.txt']\n",
      "1)   Machine IP Address:    192.168.1.153      File Name:   file4.txt\n",
      "['192.168.1.153', 'file5.txt']\n",
      "2)   Machine IP Address:    192.168.1.153      File Name:   file5.txt\n",
      "['192.168.1.153', 'file6.txt']\n",
      "3)   Machine IP Address:    192.168.1.153      File Name:   file6.txt\n",
      "['192.168.56.1', 'file1.txt']\n",
      "4)   Machine IP Address:    192.168.56.1      File Name:   file1.txt\n",
      "['192.168.56.1', 'file2.txt']\n",
      "5)   Machine IP Address:    192.168.56.1      File Name:   file2.txt\n",
      "['192.168.56.1', 'file3.txt']\n",
      "6)   Machine IP Address:    192.168.56.1      File Name:   file3.txt\n"
     ]
    },
    {
     "data": {
      "text/plain": [
       "[['192.168.1.153', 'file4.txt'],\n",
       " ['192.168.1.153', 'file5.txt'],\n",
       " ['192.168.1.153', 'file6.txt'],\n",
       " ['192.168.56.1', 'file1.txt'],\n",
       " ['192.168.56.1', 'file2.txt'],\n",
       " ['192.168.56.1', 'file3.txt']]"
      ]
     },
     "execution_count": 6,
     "metadata": {},
     "output_type": "execute_result"
    }
   ],
   "source": [
    "#Function to pull all files down from the server and display for user\n",
    "\n",
    "def pull_from_server ():\n",
    "    \n",
    "    db, mycursor = connect_to_db ()\n",
    "    \n",
    "    mycursor.execute(\"USE CDS\")\n",
    "    mycursor.execute(\"SELECT * FROM peer_list\")\n",
    "    result = mycursor.fetchall()\n",
    "    \n",
    "    print()\n",
    "    print('Avaliable Files For Download')\n",
    "    print()\n",
    "    \n",
    "    pairlist = []\n",
    "    count = 0\n",
    "    for row in result:\n",
    "        pair = []\n",
    "        pair = [row[0], row[1]]\n",
    "        print (pair)\n",
    "        pairlist.append(pair)\n",
    "        count = count + 1\n",
    "        \n",
    "        print(str(count) + ')   Machine IP Address:   ', row[0] + '      File Name:   ' + row[1])\n",
    "        \n",
    "    return pairlist\n",
    "\n",
    "pull_from_server()"
   ]
  },
  {
   "cell_type": "code",
   "execution_count": 7,
   "metadata": {},
   "outputs": [],
   "source": [
    "#Function to delete all files from the server associate with the local IP of current machine\n",
    "\n",
    "def delete_files ():\n",
    "    \n",
    "    db, mycursor = connect_to_db ()\n",
    "    host_ip, host_name = get_local_ip()\n",
    "    \n",
    "    mycursor.execute(\"USE CDS\")\n",
    "    mycursor.execute(\"DELETE FROM peer_list WHERE IP = '\" + host_ip + \"';\" )\n",
    "    \n",
    "    db.commit()\n",
    "    \n",
    "    print ()\n",
    "    print (\"All files associated with this machines IP have been successfully deleted from the server! \")\n",
    "    "
   ]
  },
  {
   "cell_type": "code",
   "execution_count": 8,
   "metadata": {},
   "outputs": [
    {
     "name": "stdout",
     "output_type": "stream",
     "text": [
      "\n",
      "<mysql.connector.connection_cext.CMySQLConnection object at 0x000001957CF113D0>\n",
      "\n",
      "Hostname :   DESKTOP-NQAPMAS\n",
      "IP :  192.168.56.1\n",
      "\n",
      "All files associated with this machines IP have been successfully deleted from the server! \n",
      "\n",
      "<mysql.connector.connection_cext.CMySQLConnection object at 0x000001957CF02790>\n",
      "\n",
      "Hostname :   DESKTOP-NQAPMAS\n",
      "IP :  192.168.56.1\n",
      "\n",
      "Files From Share Drive:\n",
      "file1.txt\n",
      "file2.txt\n",
      "file3.txt\n",
      "\n",
      "Inserted file:   file1.txt\n",
      "Inserted file:   file2.txt\n",
      "Inserted file:   file3.txt\n",
      "\n",
      "<mysql.connector.connection_cext.CMySQLConnection object at 0x000001957CF02790>\n",
      "\n",
      "Avaliable Files For Download\n",
      "\n",
      "['192.168.1.153', 'file4.txt']\n",
      "1)   Machine IP Address:    192.168.1.153      File Name:   file4.txt\n",
      "['192.168.1.153', 'file5.txt']\n",
      "2)   Machine IP Address:    192.168.1.153      File Name:   file5.txt\n",
      "['192.168.1.153', 'file6.txt']\n",
      "3)   Machine IP Address:    192.168.1.153      File Name:   file6.txt\n",
      "['192.168.56.1', 'file1.txt']\n",
      "4)   Machine IP Address:    192.168.56.1      File Name:   file1.txt\n",
      "['192.168.56.1', 'file2.txt']\n",
      "5)   Machine IP Address:    192.168.56.1      File Name:   file2.txt\n",
      "['192.168.56.1', 'file3.txt']\n",
      "6)   Machine IP Address:    192.168.56.1      File Name:   file3.txt\n",
      "\n",
      "Please enter the index number of the file you wish to download!\n",
      "\n",
      "You are asking for file: file4.txt from IP address: 192.168.1.153. Correct? (Y/n)\n",
      "\n",
      "Program terminating...\n",
      "\n",
      "Request for file successfully sent!\n"
     ]
    }
   ],
   "source": [
    "#Main driver function for client\n",
    "\n",
    "def main():\n",
    "    \n",
    "    delete_files()\n",
    "    push_to_server ()\n",
    "    pairlist = pull_from_server ()\n",
    "    \n",
    "    print ()\n",
    "    print (\"Please enter the index number of the file you wish to download!\\n\")\n",
    "    fileindex = int(input())\n",
    "    \n",
    "    dest_ip = pairlist [fileindex - 1][0]\n",
    "    filename = pairlist [fileindex - 1][1]\n",
    "    \n",
    "    print (\"You are asking for file: \" + filename + \" from IP address: \" + dest_ip + \". Correct? (Y/n)\\n\")\n",
    "    proceed = input()\n",
    "    \n",
    "    if proceed != 'n' or 'N':\n",
    "        print(\"Program terminating...\")\n",
    "        exit()\n",
    "        \n",
    "    HOST = dest_ip  # The server's hostname or IP address\n",
    "    PORT = 44444        # The port used by the server\n",
    "\n",
    "    with socket.socket(socket.AF_INET, socket.SOCK_STREAM) as s:\n",
    "        s.connect((HOST, PORT))\n",
    "        s.sendall(bytes(dest_ip + \" \" + filename, 'utf-8'))\n",
    "\n",
    "    print()\n",
    "    print(\"Request for file successfully sent!\")\n",
    "\n",
    "if __name__ == \"__main__\":\n",
    "    main()\n",
    "    "
   ]
  }
 ],
 "metadata": {
  "interpreter": {
   "hash": "57a5fde01914d98827060784df451e27446bd3caf609add82b8d4177048d62b8"
  },
  "kernelspec": {
   "display_name": "Python 3.8.11 64-bit ('venv': venv)",
   "language": "python",
   "name": "python3"
  },
  "language_info": {
   "codemirror_mode": {
    "name": "ipython",
    "version": 3
   },
   "file_extension": ".py",
   "mimetype": "text/x-python",
   "name": "python",
   "nbconvert_exporter": "python",
   "pygments_lexer": "ipython3",
   "version": "3.8.11"
  },
  "orig_nbformat": 4
 },
 "nbformat": 4,
 "nbformat_minor": 2
}
