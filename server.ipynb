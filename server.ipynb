{
 "cells": [
  {
   "cell_type": "code",
   "execution_count": 5,
   "metadata": {},
   "outputs": [],
   "source": [
    "import socket\n"
   ]
  },
  {
   "cell_type": "code",
   "execution_count": 6,
   "metadata": {},
   "outputs": [
    {
     "name": "stdout",
     "output_type": "stream",
     "text": [
      "Hostname :   DESKTOP-NQAPMAS\n",
      "IP :  192.168.56.1\n"
     ]
    }
   ],
   "source": [
    "try:\n",
    "    host_name = socket.gethostname()\n",
    "    host_ip = socket.gethostbyname(host_name)\n",
    "    print(\"Hostname :  \",host_name)\n",
    "    print(\"IP : \",host_ip)\n",
    "except:\n",
    "    print(\"Unable to get Hostname and IP\")"
   ]
  },
  {
   "cell_type": "code",
   "execution_count": 7,
   "metadata": {},
   "outputs": [
    {
     "name": "stdout",
     "output_type": "stream",
     "text": [
      "Connected by ('192.168.56.1', 59074)\n"
     ]
    }
   ],
   "source": [
    "import socket\n",
    "\n",
    "HOST = host_ip  # Host broadcast IP\n",
    "PORT = 44444        # Port to listen on (non-privileged ports are > 1023)\n",
    "\n",
    "with socket.socket(socket.AF_INET, socket.SOCK_STREAM) as s:\n",
    "    s.bind((HOST, PORT))\n",
    "    s.listen()\n",
    "    conn, addr = s.accept()\n",
    "    with conn:\n",
    "        print('Connected by', addr)\n",
    "        while True:\n",
    "            data = conn.recv(1024)\n",
    "            if not data:\n",
    "                break\n",
    "            conn.sendall(data)"
   ]
  }
 ],
 "metadata": {
  "interpreter": {
   "hash": "57a5fde01914d98827060784df451e27446bd3caf609add82b8d4177048d62b8"
  },
  "kernelspec": {
   "display_name": "Python 3.8.11 64-bit ('venv': venv)",
   "language": "python",
   "name": "python3"
  },
  "language_info": {
   "codemirror_mode": {
    "name": "ipython",
    "version": 3
   },
   "file_extension": ".py",
   "mimetype": "text/x-python",
   "name": "python",
   "nbconvert_exporter": "python",
   "pygments_lexer": "ipython3",
   "version": "3.8.11"
  },
  "orig_nbformat": 4
 },
 "nbformat": 4,
 "nbformat_minor": 2
}
