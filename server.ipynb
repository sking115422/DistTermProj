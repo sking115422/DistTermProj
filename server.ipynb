{
 "cells": [
  {
   "cell_type": "code",
   "execution_count": 1,
   "metadata": {},
   "outputs": [],
   "source": [
    "import socket\n"
   ]
  },
  {
   "cell_type": "code",
   "execution_count": 2,
   "metadata": {},
   "outputs": [
    {
     "name": "stdout",
     "output_type": "stream",
     "text": [
      "Hostname :   Spencers-Air.attlocal.net\n",
      "IP :  192.168.1.194\n"
     ]
    }
   ],
   "source": [
    "try:\n",
    "    host_name = socket.gethostname()\n",
    "    host_ip = socket.gethostbyname(host_name)\n",
    "    print(\"Hostname :  \",host_name)\n",
    "    print(\"IP : \",host_ip)\n",
    "except:\n",
    "    print(\"Unable to get Hostname and IP\")"
   ]
  },
  {
   "cell_type": "code",
   "execution_count": 7,
   "metadata": {},
   "outputs": [
    {
     "name": "stdout",
     "output_type": "stream",
     "text": [
      "Connected by ('192.168.56.1', 59074)\n"
     ]
    }
   ],
   "source": [
    "\n",
    "HOST = host_ip  # Host broadcast IP\n",
    "PORT = 44444        # Port to listen on (non-privileged ports are > 1023)\n",
    "\n",
    "with socket.socket(socket.AF_INET, socket.SOCK_STREAM) as s:\n",
    "    s.bind((HOST, PORT))\n",
    "    s.listen()\n",
    "    conn, addr = s.accept()\n",
    "    with conn:\n",
    "        \n",
    "        print('Connected: ', addr)\n",
    "        \n",
    "        machine_ip = None\n",
    "        file_to_send = None\n",
    "        \n",
    "        while data != None:\n",
    "            data = conn.recv(1024)\n",
    "            print(data)\n",
    "            \n",
    "            try:\n",
    "                data_str = str(data)\n",
    "                data_list = data_str.split(\" \")\n",
    "                \n",
    "            except:\n",
    "                print(\"bytes are not covertible to ascii\")\n",
    "                \n",
    "            \n",
    "            if data_list[0] == \"request\":\n",
    "                \n",
    "                machine_ip = data_list[1]\n",
    "                file_to_send = data_list[2]\n",
    "                \n",
    "            else:\n",
    "            \n",
    "                if file_to_send != None:\n",
    "                    \n",
    "                    fo = open('./DistShared/' + file_to_send, 'rb')\n",
    "                    buf = fo.read(1024)\n",
    "                    print(\"Sending: \" + file_to_send + \" ...\")\n",
    "                    \n",
    "                    while buf:\n",
    "                        \n",
    "                        fo.send(buf)\n",
    "                        buf = fo.read(1024)\n",
    "                        print(\"Sending: \" + file_to_send + \" ...\")\n",
    "                        \n",
    "                    fo.close()\n",
    "                    print (\"File sent!\")\n",
    "                    \n",
    "                        \n",
    "                        \n",
    "                \n",
    "            \n",
    "                "
   ]
  }
 ],
 "metadata": {
  "interpreter": {
   "hash": "57a5fde01914d98827060784df451e27446bd3caf609add82b8d4177048d62b8"
  },
  "kernelspec": {
   "display_name": "Python 3.8.11 64-bit ('venv': venv)",
   "language": "python",
   "name": "python3"
  },
  "language_info": {
   "codemirror_mode": {
    "name": "ipython",
    "version": 3
   },
   "file_extension": ".py",
   "mimetype": "text/x-python",
   "name": "python",
   "nbconvert_exporter": "python",
   "pygments_lexer": "ipython3",
   "version": "3.9.6"
  },
  "orig_nbformat": 4
 },
 "nbformat": 4,
 "nbformat_minor": 2
}
