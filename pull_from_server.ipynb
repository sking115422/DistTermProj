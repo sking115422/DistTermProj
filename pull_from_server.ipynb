{
 "cells": [
  {
   "cell_type": "code",
   "execution_count": 17,
   "metadata": {},
   "outputs": [],
   "source": [
    "import mysql.connector\n",
    "from datetime import date\n",
    "import datetime\n",
    "import os"
   ]
  },
  {
   "cell_type": "code",
   "execution_count": 18,
   "metadata": {},
   "outputs": [
    {
     "name": "stdout",
     "output_type": "stream",
     "text": [
      "<mysql.connector.connection_cext.CMySQLConnection object at 0x0000026118853DF0>\n"
     ]
    }
   ],
   "source": [
    "db = mysql.connector.connect(\n",
    "    host='173.230.133.41',\n",
    "    user='user',\n",
    "    password=''\n",
    ")\n",
    "\n",
    "print (db)\n",
    "\n",
    "mycursor = db.cursor()"
   ]
  },
  {
   "cell_type": "code",
   "execution_count": 19,
   "metadata": {},
   "outputs": [
    {
     "name": "stdout",
     "output_type": "stream",
     "text": [
      "\n",
      "Databases\n",
      "('CDS',)\n",
      "('information_schema',)\n",
      "('mysql',)\n",
      "('performance_schema',)\n",
      "('sys',)\n"
     ]
    }
   ],
   "source": [
    "mycursor.execute(\"SHOW DATABASES;\")\n",
    "print()\n",
    "print('Databases')\n",
    "for dbs in mycursor:\n",
    "  print(dbs)"
   ]
  },
  {
   "cell_type": "code",
   "execution_count": 20,
   "metadata": {},
   "outputs": [
    {
     "name": "stdout",
     "output_type": "stream",
     "text": [
      "\n",
      "Tables in CDS\n",
      "('peer_list',)\n"
     ]
    }
   ],
   "source": [
    "mycursor.execute(\"USE CDS\")\n",
    "mycursor.execute(\"SHOW TABLES\")\n",
    "print()\n",
    "print('Tables in CDS')\n",
    "for tables in mycursor:\n",
    "  print(tables)"
   ]
  },
  {
   "cell_type": "code",
   "execution_count": 23,
   "metadata": {},
   "outputs": [
    {
     "name": "stdout",
     "output_type": "stream",
     "text": [
      "\n",
      "Avaliable Files For Download\n",
      "Machine IP Address:   192.168.56.1      File Name:   file1.txt\n",
      "Machine IP Address:   192.168.56.1      File Name:   file2.txt\n",
      "Machine IP Address:   192.168.56.1      File Name:   file3.txt\n"
     ]
    }
   ],
   "source": [
    "mycursor.execute(\"SELECT * FROM peer_list\")\n",
    "result = mycursor.fetchall()\n",
    "  \n",
    "print()\n",
    "print('Avaliable Files For Download')\n",
    "print()\n",
    "for row in result:\n",
    "  print('Machine IP Address:   ' + row[0] + '      File Name:   ' + row[1])"
   ]
  }
 ],
 "metadata": {
  "interpreter": {
   "hash": "57a5fde01914d98827060784df451e27446bd3caf609add82b8d4177048d62b8"
  },
  "kernelspec": {
   "display_name": "Python 3.8.11 64-bit ('venv': venv)",
   "language": "python",
   "name": "python3"
  },
  "language_info": {
   "codemirror_mode": {
    "name": "ipython",
    "version": 3
   },
   "file_extension": ".py",
   "mimetype": "text/x-python",
   "name": "python",
   "nbconvert_exporter": "python",
   "pygments_lexer": "ipython3",
   "version": "3.8.11"
  },
  "orig_nbformat": 4
 },
 "nbformat": 4,
 "nbformat_minor": 2
}
