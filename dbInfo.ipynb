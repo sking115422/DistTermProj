{
 "cells": [
  {
   "cell_type": "code",
   "execution_count": 2,
   "metadata": {},
   "outputs": [],
   "source": [
    "import mysql.connector\n",
    "from datetime import date\n",
    "import datetime"
   ]
  },
  {
   "cell_type": "code",
   "execution_count": 3,
   "metadata": {},
   "outputs": [
    {
     "name": "stdout",
     "output_type": "stream",
     "text": [
      "<mysql.connector.connection.MySQLConnection object at 0x0000027375EA3470>\n",
      "\n",
      "Databases\n",
      "('CDS',)\n",
      "('information_schema',)\n",
      "('mysql',)\n",
      "('performance_schema',)\n",
      "('sys',)\n",
      "\n",
      "Tables in CDS\n",
      "('peer_list',)\n"
     ]
    }
   ],
   "source": [
    "db = mysql.connector.connect(\n",
    "    host='173.230.133.41',\n",
    "    user='user',\n",
    "    password=''\n",
    ")\n",
    "\n",
    "print (db)\n",
    "\n",
    "mycursor = db.cursor()\n",
    "mycursor.execute(\"SHOW DATABASES;\")\n",
    "print()\n",
    "print('Databases')\n",
    "for dbs in mycursor:\n",
    "  print(dbs)\n",
    "\n",
    "mycursor.execute(\"USE CDS\")\n",
    "mycursor.execute(\"SHOW TABLES\")\n",
    "print()\n",
    "print('Tables in CDS')\n",
    "for tables in mycursor:\n",
    "  print(tables)"
   ]
  }
 ],
 "metadata": {
  "interpreter": {
   "hash": "63fd5069d213b44bf678585dea6b12cceca9941eaf7f819626cde1f2670de90d"
  },
  "kernelspec": {
   "display_name": "Python 3.9.0 64-bit",
   "language": "python",
   "name": "python3"
  },
  "language_info": {
   "codemirror_mode": {
    "name": "ipython",
    "version": 3
   },
   "file_extension": ".py",
   "mimetype": "text/x-python",
   "name": "python",
   "nbconvert_exporter": "python",
   "pygments_lexer": "ipython3",
   "version": "3.7.3"
  },
  "orig_nbformat": 4
 },
 "nbformat": 4,
 "nbformat_minor": 2
}
